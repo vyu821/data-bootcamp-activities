{
 "cells": [
  {
   "cell_type": "code",
   "execution_count": 1,
   "metadata": {
    "collapsed": true
   },
   "outputs": [],
   "source": [
    "%matplotlib inline\n",
    "from matplotlib import pyplot as plt\n",
    "from sklearn import datasets\n",
    "from sklearn.model_selection import train_test_split"
   ]
  },
  {
   "cell_type": "code",
   "execution_count": 2,
   "metadata": {},
   "outputs": [
    {
     "name": "stdout",
     "output_type": "stream",
     "text": [
      "Optical Recognition of Handwritten Digits Data Set\n",
      "===================================================\n",
      "\n",
      "Notes\n",
      "-----\n",
      "Data Set Characteristics:\n",
      "    :Number of Instances: 5620\n",
      "    :Number of Attributes: 64\n",
      "    :Attribute Information: 8x8 image of integer pixels in the range 0..16.\n",
      "    :Missing Attribute Values: None\n",
      "    :Creator: E. Alpaydin (alpaydin '@' boun.edu.tr)\n",
      "    :Date: July; 1998\n",
      "\n",
      "This is a copy of the test set of the UCI ML hand-written digits datasets\n",
      "http://archive.ics.uci.edu/ml/datasets/Optical+Recognition+of+Handwritten+Digits\n",
      "\n",
      "The data set contains images of hand-written digits: 10 classes where\n",
      "each class refers to a digit.\n",
      "\n",
      "Preprocessing programs made available by NIST were used to extract\n",
      "normalized bitmaps of handwritten digits from a preprinted form. From a\n",
      "total of 43 people, 30 contributed to the training set and different 13\n",
      "to the test set. 32x32 bitmaps are divided into nonoverlapping blocks of\n",
      "4x4 and the number of on pixels are counted in each block. This generates\n",
      "an input matrix of 8x8 where each element is an integer in the range\n",
      "0..16. This reduces dimensionality and gives invariance to small\n",
      "distortions.\n",
      "\n",
      "For info on NIST preprocessing routines, see M. D. Garris, J. L. Blue, G.\n",
      "T. Candela, D. L. Dimmick, J. Geist, P. J. Grother, S. A. Janet, and C.\n",
      "L. Wilson, NIST Form-Based Handprint Recognition System, NISTIR 5469,\n",
      "1994.\n",
      "\n",
      "References\n",
      "----------\n",
      "  - C. Kaynak (1995) Methods of Combining Multiple Classifiers and Their\n",
      "    Applications to Handwritten Digit Recognition, MSc Thesis, Institute of\n",
      "    Graduate Studies in Science and Engineering, Bogazici University.\n",
      "  - E. Alpaydin, C. Kaynak (1998) Cascading Classifiers, Kybernetika.\n",
      "  - Ken Tang and Ponnuthurai N. Suganthan and Xi Yao and A. Kai Qin.\n",
      "    Linear dimensionalityreduction using relevance weighted LDA. School of\n",
      "    Electrical and Electronic Engineering Nanyang Technological University.\n",
      "    2005.\n",
      "  - Claudio Gentile. A New Approximate Maximal Margin Classification\n",
      "    Algorithm. NIPS. 2000.\n",
      "\n"
     ]
    }
   ],
   "source": [
    "digits = datasets.load_digits()\n",
    "print(digits.DESCR)"
   ]
  },
  {
   "cell_type": "code",
   "execution_count": 3,
   "metadata": {
    "collapsed": true
   },
   "outputs": [],
   "source": [
    "n_samples = len(digits.images)\n",
    "X = digits.images.reshape((n_samples, -1))\n",
    "y = digits.target\n",
    "\n",
    "# Split the dataset in two equal parts\n",
    "X_train, X_test, y_train, y_test = train_test_split(X, y, random_state=0)"
   ]
  },
  {
   "cell_type": "code",
   "execution_count": 4,
   "metadata": {},
   "outputs": [
    {
     "name": "stderr",
     "output_type": "stream",
     "text": [
      "Z:\\Anaconda\\lib\\site-packages\\sklearn\\ensemble\\weight_boosting.py:29: DeprecationWarning: numpy.core.umath_tests is an internal NumPy module and should not be imported. It will be removed in a future NumPy release.\n",
      "  from numpy.core.umath_tests import inner1d\n"
     ]
    }
   ],
   "source": [
    "# Support vector machine linear classifier\n",
    "from sklearn.ensemble import RandomForestClassifier\n",
    "model = RandomForestClassifier()"
   ]
  },
  {
   "cell_type": "code",
   "execution_count": 5,
   "metadata": {},
   "outputs": [],
   "source": [
    "# Create the GridSearch estimator along with a parameter object containing the values to adjust\n",
    "from sklearn.model_selection import GridSearchCV\n",
    "param_grid = {'n_estimators': [10, 100, 1000],\n",
    "              'max_depth': [2, 5, 10, 20]}\n",
    "grid = GridSearchCV(model, param_grid, verbose=3)"
   ]
  },
  {
   "cell_type": "code",
   "execution_count": 6,
   "metadata": {},
   "outputs": [
    {
     "name": "stdout",
     "output_type": "stream",
     "text": [
      "Fitting 3 folds for each of 12 candidates, totalling 36 fits\n",
      "[CV] max_depth=2, n_estimators=10 ....................................\n",
      "[CV]  max_depth=2, n_estimators=10, score=0.7035398230088495, total=   0.0s\n",
      "[CV] max_depth=2, n_estimators=10 ....................................\n",
      "[CV]  max_depth=2, n_estimators=10, score=0.7394209354120267, total=   0.0s\n",
      "[CV] max_depth=2, n_estimators=10 ....................................\n",
      "[CV]  max_depth=2, n_estimators=10, score=0.7466367713004485, total=   0.0s\n",
      "[CV] max_depth=2, n_estimators=100 ...................................\n"
     ]
    },
    {
     "name": "stderr",
     "output_type": "stream",
     "text": [
      "[Parallel(n_jobs=1)]: Done   1 out of   1 | elapsed:    0.0s remaining:    0.0s\n",
      "[Parallel(n_jobs=1)]: Done   2 out of   2 | elapsed:    0.0s remaining:    0.0s\n"
     ]
    },
    {
     "name": "stdout",
     "output_type": "stream",
     "text": [
      "[CV]  max_depth=2, n_estimators=100, score=0.8163716814159292, total=   0.1s\n",
      "[CV] max_depth=2, n_estimators=100 ...................................\n",
      "[CV]  max_depth=2, n_estimators=100, score=0.8485523385300668, total=   0.1s\n",
      "[CV] max_depth=2, n_estimators=100 ...................................\n",
      "[CV]  max_depth=2, n_estimators=100, score=0.8071748878923767, total=   0.1s\n",
      "[CV] max_depth=2, n_estimators=1000 ..................................\n",
      "[CV]  max_depth=2, n_estimators=1000, score=0.8185840707964602, total=   2.0s\n",
      "[CV] max_depth=2, n_estimators=1000 ..................................\n",
      "[CV]  max_depth=2, n_estimators=1000, score=0.8418708240534521, total=   2.0s\n",
      "[CV] max_depth=2, n_estimators=1000 ..................................\n",
      "[CV]  max_depth=2, n_estimators=1000, score=0.8183856502242153, total=   2.0s\n",
      "[CV] max_depth=5, n_estimators=10 ....................................\n",
      "[CV]  max_depth=5, n_estimators=10, score=0.8915929203539823, total=   0.0s\n",
      "[CV] max_depth=5, n_estimators=10 ....................................\n",
      "[CV]  max_depth=5, n_estimators=10, score=0.9175946547884187, total=   0.0s\n",
      "[CV] max_depth=5, n_estimators=10 ....................................\n",
      "[CV]  max_depth=5, n_estimators=10, score=0.8677130044843049, total=   0.0s\n",
      "[CV] max_depth=5, n_estimators=100 ...................................\n",
      "[CV]  max_depth=5, n_estimators=100, score=0.9269911504424779, total=   0.1s\n",
      "[CV] max_depth=5, n_estimators=100 ...................................\n",
      "[CV]  max_depth=5, n_estimators=100, score=0.9643652561247216, total=   0.2s\n",
      "[CV] max_depth=5, n_estimators=100 ...................................\n",
      "[CV]  max_depth=5, n_estimators=100, score=0.9237668161434978, total=   0.1s\n",
      "[CV] max_depth=5, n_estimators=1000 ..................................\n",
      "[CV]  max_depth=5, n_estimators=1000, score=0.9469026548672567, total=   2.4s\n",
      "[CV] max_depth=5, n_estimators=1000 ..................................\n",
      "[CV]  max_depth=5, n_estimators=1000, score=0.9487750556792873, total=   2.4s\n",
      "[CV] max_depth=5, n_estimators=1000 ..................................\n",
      "[CV]  max_depth=5, n_estimators=1000, score=0.9304932735426009, total=   2.4s\n",
      "[CV] max_depth=10, n_estimators=10 ...................................\n",
      "[CV]  max_depth=10, n_estimators=10, score=0.9203539823008849, total=   0.0s\n",
      "[CV] max_depth=10, n_estimators=10 ...................................\n",
      "[CV]  max_depth=10, n_estimators=10, score=0.9265033407572383, total=   0.0s\n",
      "[CV] max_depth=10, n_estimators=10 ...................................\n",
      "[CV]  max_depth=10, n_estimators=10, score=0.9103139013452914, total=   0.0s\n",
      "[CV] max_depth=10, n_estimators=100 ..................................\n",
      "[CV]  max_depth=10, n_estimators=100, score=0.9734513274336283, total=   0.2s\n",
      "[CV] max_depth=10, n_estimators=100 ..................................\n",
      "[CV]  max_depth=10, n_estimators=100, score=0.9688195991091314, total=   0.2s\n",
      "[CV] max_depth=10, n_estimators=100 ..................................\n",
      "[CV]  max_depth=10, n_estimators=100, score=0.968609865470852, total=   0.2s\n",
      "[CV] max_depth=10, n_estimators=1000 .................................\n",
      "[CV]  max_depth=10, n_estimators=1000, score=0.9756637168141593, total=   2.9s\n",
      "[CV] max_depth=10, n_estimators=1000 .................................\n",
      "[CV]  max_depth=10, n_estimators=1000, score=0.9755011135857461, total=   3.1s\n",
      "[CV] max_depth=10, n_estimators=1000 .................................\n",
      "[CV]  max_depth=10, n_estimators=1000, score=0.9618834080717489, total=   2.8s\n",
      "[CV] max_depth=20, n_estimators=10 ...................................\n",
      "[CV]  max_depth=20, n_estimators=10, score=0.9247787610619469, total=   0.0s\n",
      "[CV] max_depth=20, n_estimators=10 ...................................\n",
      "[CV]  max_depth=20, n_estimators=10, score=0.9465478841870824, total=   0.0s\n",
      "[CV] max_depth=20, n_estimators=10 ...................................\n",
      "[CV]  max_depth=20, n_estimators=10, score=0.9237668161434978, total=   0.0s\n",
      "[CV] max_depth=20, n_estimators=100 ..................................\n",
      "[CV]  max_depth=20, n_estimators=100, score=0.9734513274336283, total=   0.2s\n",
      "[CV] max_depth=20, n_estimators=100 ..................................\n",
      "[CV]  max_depth=20, n_estimators=100, score=0.9665924276169265, total=   0.2s\n",
      "[CV] max_depth=20, n_estimators=100 ..................................\n",
      "[CV]  max_depth=20, n_estimators=100, score=0.9641255605381166, total=   0.2s\n",
      "[CV] max_depth=20, n_estimators=1000 .................................\n",
      "[CV]  max_depth=20, n_estimators=1000, score=0.9712389380530974, total=   2.8s\n",
      "[CV] max_depth=20, n_estimators=1000 .................................\n",
      "[CV]  max_depth=20, n_estimators=1000, score=0.9755011135857461, total=   2.8s\n",
      "[CV] max_depth=20, n_estimators=1000 .................................\n",
      "[CV]  max_depth=20, n_estimators=1000, score=0.9618834080717489, total=   2.7s\n"
     ]
    },
    {
     "name": "stderr",
     "output_type": "stream",
     "text": [
      "[Parallel(n_jobs=1)]: Done  36 out of  36 | elapsed:   37.2s finished\n"
     ]
    },
    {
     "data": {
      "text/plain": [
       "GridSearchCV(cv=None, error_score='raise',\n",
       "       estimator=RandomForestClassifier(bootstrap=True, class_weight=None, criterion='gini',\n",
       "            max_depth=None, max_features='auto', max_leaf_nodes=None,\n",
       "            min_impurity_decrease=0.0, min_impurity_split=None,\n",
       "            min_samples_leaf=1, min_samples_split=2,\n",
       "            min_weight_fraction_leaf=0.0, n_estimators=10, n_jobs=1,\n",
       "            oob_score=False, random_state=None, verbose=0,\n",
       "            warm_start=False),\n",
       "       fit_params=None, iid=True, n_jobs=1,\n",
       "       param_grid={'n_estimators': [10, 100, 1000], 'max_depth': [2, 5, 10, 20]},\n",
       "       pre_dispatch='2*n_jobs', refit=True, return_train_score='warn',\n",
       "       scoring=None, verbose=3)"
      ]
     },
     "execution_count": 6,
     "metadata": {},
     "output_type": "execute_result"
    }
   ],
   "source": [
    "# Fit the model using the grid search estimator. \n",
    "# This will take the Random Forest model and try each combination of parameters\n",
    "grid.fit(X_train, y_train)"
   ]
  },
  {
   "cell_type": "code",
   "execution_count": 7,
   "metadata": {},
   "outputs": [
    {
     "name": "stdout",
     "output_type": "stream",
     "text": [
      "{'max_depth': 10, 'n_estimators': 1000}\n"
     ]
    }
   ],
   "source": [
    "# List the best parameters for this dataset\n",
    "print(grid.best_params_)"
   ]
  },
  {
   "cell_type": "code",
   "execution_count": 8,
   "metadata": {},
   "outputs": [
    {
     "name": "stdout",
     "output_type": "stream",
     "text": [
      "0.9710467706013363\n"
     ]
    }
   ],
   "source": [
    "# List the best score\n",
    "print(grid.best_score_)"
   ]
  },
  {
   "cell_type": "code",
   "execution_count": 10,
   "metadata": {},
   "outputs": [
    {
     "data": {
      "text/plain": [
       "<matplotlib.collections.PathCollection at 0x1f645402128>"
      ]
     },
     "execution_count": 10,
     "metadata": {},
     "output_type": "execute_result"
    },
    {
     "data": {
      "image/png": "[encoded data removed]",
      "text/plain": [
       "<matplotlib.figure.Figure at 0x1f644217ac8>"
      ]
     },
     "metadata": {
      "needs_background": "light"
     },
     "output_type": "display_data"
    }
   ],
   "source": [
    "# Plot a scatterplot of predictions on X_test vs actual y_test values\n",
    "predictions = grid.predict(X_test)\n",
    "plt.scatter(predictions, y_test)"
   ]
  },
  {
   "cell_type": "code",
   "execution_count": null,
   "metadata": {
    "collapsed": true
   },
   "outputs": [],
   "source": []
  }
 ],
 "metadata": {
  "kernelspec": {
   "display_name": "Python 3",
   "language": "python",
   "name": "python3"
  },
  "language_info": {
   "codemirror_mode": {
    "name": "ipython",
    "version": 3
   },
   "file_extension": ".py",
   "mimetype": "text/x-python",
   "name": "python",
   "nbconvert_exporter": "python",
   "pygments_lexer": "ipython3",
   "version": "3.6.3"
  },
  "varInspector": {
   "cols": {
    "lenName": 16,
    "lenType": 16,
    "lenVar": 40
   },
   "kernels_config": {
    "python": {
     "delete_cmd_postfix": "",
     "delete_cmd_prefix": "del ",
     "library": "var_list.py",
     "varRefreshCmd": "print(var_dic_list())"
    },
    "r": {
     "delete_cmd_postfix": ") ",
     "delete_cmd_prefix": "rm(",
     "library": "var_list.r",
     "varRefreshCmd": "cat(var_dic_list()) "
    }
   },
   "types_to_exclude": [
    "module",
    "function",
    "builtin_function_or_method",
    "instance",
    "_Feature"
   ],
   "window_display": false
  }
 },
 "nbformat": 4,
 "nbformat_minor": 2
}
