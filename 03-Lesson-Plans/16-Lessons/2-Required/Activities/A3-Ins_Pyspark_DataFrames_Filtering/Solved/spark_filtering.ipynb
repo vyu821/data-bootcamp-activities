{
 "cells": [
  {
   "cell_type": "markdown",
   "metadata": {
    "colab_type": "text",
    "id": "gwcSTHMra-P-"
   },
   "source": [
    "## Filtering Data"
   ]
  },
  {
   "cell_type": "code",
   "execution_count": 0,
   "metadata": {
    "colab": {},
    "colab_type": "code",
    "id": "nx-RvtVhbIdh"
   },
   "outputs": [],
   "source": [
    "import os\n",
    "# Find the latest version of spark 3.0  from http://www-us.apache.org/dist/spark/ and enter as the spark version\n",
    "# For example:\n",
    "# spark_version = 'spark-3.0.1'\n",
    "spark_version = 'spark-3.0.1'\n",
    "os.environ['SPARK_VERSION']=spark_version\n",
    "\n",
    "# Install Spark and Java\n",
    "!apt-get update\n",
    "!apt-get install openjdk-11-jdk-headless -qq > /dev/null\n",
    "!wget -q http://www-us.apache.org/dist/spark/$SPARK_VERSION/$SPARK_VERSION-bin-hadoop2.7.tgz\n",
    "!tar xf $SPARK_VERSION-bin-hadoop2.7.tgz\n",
    "!pip install -q findspark\n",
    "\n",
    "# Set Environment Variables\n",
    "os.environ[\"JAVA_HOME\"] = \"/usr/lib/jvm/java-11-openjdk-amd64\"\n",
    "os.environ[\"SPARK_HOME\"] = f\"/content/{spark_version}-bin-hadoop2.7\"\n",
    "\n",
    "# Start a SparkSession\n",
    "import findspark\n",
    "findspark.init()\n",
    "\n",
    "# Start Spark session\n",
    "from pyspark.sql import SparkSession\n",
    "spark = SparkSession.builder.appName(\"SparkFiltering\").getOrCreate()"
   ]
  },
  {
   "cell_type": "code",
   "execution_count": 3,
   "metadata": {
    "colab": {
     "base_uri": "https://localhost:8080/",
     "height": 459
    },
    "colab_type": "code",
    "id": "8HZ7JR0Ia-QC",
    "outputId": "c6cc6aa6-409b-482a-836a-4f825bd9fb62"
   },
   "outputs": [
    {
     "name": "stdout",
     "output_type": "stream",
     "text": [
      "+-------+--------------------+--------------------+------+-----+------------------+--------------------+-----------------+------------------+--------------------+\n",
      "|country|         description|         designation|points|price|          province|            region_1|         region_2|           variety|              winery|\n",
      "+-------+--------------------+--------------------+------+-----+------------------+--------------------+-----------------+------------------+--------------------+\n",
      "|     US|This tremendous 1...|   Martha's Vineyard|    96|  235|        California|         Napa Valley|             Napa|Cabernet Sauvignon|               Heitz|\n",
      "|  Spain|Ripe aromas of fi...|Carodorum Selecci...|    96|  110|    Northern Spain|                Toro|             null|     Tinta de Toro|Bodega Carmen Rod...|\n",
      "|     US|Mac Watson honors...|Special Selected ...|    96|   90|        California|      Knights Valley|           Sonoma|   Sauvignon Blanc|            Macauley|\n",
      "|     US|This spent 20 mon...|             Reserve|    96|   65|            Oregon|   Willamette Valley|Willamette Valley|        Pinot Noir|               Ponzi|\n",
      "| France|This is the top w...|         La Br��lade|    95|   66|          Provence|              Bandol|             null|Provence red blend|Domaine de la B̩gude|\n",
      "|  Spain|Deep, dense and p...|           Numanthia|    95|   73|    Northern Spain|                Toro|             null|     Tinta de Toro|           Numanthia|\n",
      "|  Spain|Slightly gritty b...|          San Rom��n|    95|   65|    Northern Spain|                Toro|             null|     Tinta de Toro|            Maurodos|\n",
      "|  Spain|Lush cedary black...|Carodorum �_nico ...|    95|  110|    Northern Spain|                Toro|             null|     Tinta de Toro|Bodega Carmen Rod...|\n",
      "|     US|This re-named vin...|              Silice|    95|   65|            Oregon|  Chehalem Mountains|Willamette Valley|        Pinot Noir|           Bergstr̦m|\n",
      "|     US|The producer sour...|Gap's Crown Vineyard|    95|   60|        California|        Sonoma Coast|           Sonoma|        Pinot Noir|           Blue Farm|\n",
      "|  Italy|Elegance, complex...|  Ronco della Chiesa|    95|   80|Northeastern Italy|              Collio|             null|          Friulano|    Borgo del Tiglio|\n",
      "|     US|From 18-year-old ...|Estate Vineyard W...|    95|   48|            Oregon|        Ribbon Ridge|Willamette Valley|        Pinot Noir|Patricia Green Ce...|\n",
      "|     US|A standout even i...|      Weber Vineyard|    95|   48|            Oregon|        Dundee Hills|Willamette Valley|        Pinot Noir|Patricia Green Ce...|\n",
      "| France|This wine is in p...|Ch̢teau Montus Pr...|    95|   90|  Southwest France|             Madiran|             null|            Tannat|   Vignobles Brumont|\n",
      "|     US|With its sophisti...|      Grace Vineyard|    95|  185|            Oregon|        Dundee Hills|Willamette Valley|        Pinot Noir|      Domaine Serene|\n",
      "|     US|First made in 200...|              Sigrid|    95|   90|            Oregon|   Willamette Valley|Willamette Valley|        Chardonnay|           Bergstr̦m|\n",
      "|     US|This blockbuster,...|     Rainin Vineyard|    95|  325|        California|Diamond Mountain ...|             Napa|Cabernet Sauvignon|                Hall|\n",
      "|  Spain|Nicely oaked blac...|6 A̱os Reserva Pr...|    95|   80|    Northern Spain|    Ribera del Duero|             null|       Tempranillo|            Valduero|\n",
      "| France|Coming from a sev...|       Le Pigeonnier|    95|  290|  Southwest France|              Cahors|             null|            Malbec|  Ch̢teau Lagr̩zette|\n",
      "|     US|This fresh and li...|Gap's Crown Vineyard|    95|   75|        California|        Sonoma Coast|           Sonoma|        Pinot Noir|        Gary Farrell|\n",
      "+-------+--------------------+--------------------+------+-----+------------------+--------------------+-----------------+------------------+--------------------+\n",
      "only showing top 20 rows\n",
      "\n"
     ]
    }
   ],
   "source": [
    "from pyspark import SparkFiles\n",
    "url =\"https://s3.amazonaws.com/dataviz-curriculum/day_1/wine.csv\"\n",
    "spark.sparkContext.addFile(url)\n",
    "df = spark.read.csv(SparkFiles.get(\"wine.csv\"), sep=\",\", header=True)\n",
    "\n",
    "# Show DataFrame\n",
    "df.show()"
   ]
  },
  {
   "cell_type": "code",
   "execution_count": 4,
   "metadata": {
    "colab": {
     "base_uri": "https://localhost:8080/",
     "height": 221
    },
    "colab_type": "code",
    "id": "6fnEngHUa-QI",
    "outputId": "649285bf-9bf0-406e-9c5b-1c25c61e0cba"
   },
   "outputs": [
    {
     "name": "stdout",
     "output_type": "stream",
     "text": [
      "root\n",
      " |-- country: string (nullable = true)\n",
      " |-- description: string (nullable = true)\n",
      " |-- designation: string (nullable = true)\n",
      " |-- points: string (nullable = true)\n",
      " |-- price: string (nullable = true)\n",
      " |-- province: string (nullable = true)\n",
      " |-- region_1: string (nullable = true)\n",
      " |-- region_2: string (nullable = true)\n",
      " |-- variety: string (nullable = true)\n",
      " |-- winery: string (nullable = true)\n",
      "\n"
     ]
    }
   ],
   "source": [
    "df.printSchema()"
   ]
  },
  {
   "cell_type": "code",
   "execution_count": 6,
   "metadata": {
    "colab": {
     "base_uri": "https://localhost:8080/",
     "height": 204
    },
    "colab_type": "code",
    "id": "Va2Sjj_oa-QM",
    "outputId": "448beec4-fa32-4287-e2ea-50f05c7385df"
   },
   "outputs": [
    {
     "name": "stdout",
     "output_type": "stream",
     "text": [
      "+-------+--------------------+--------------------+------+-----+--------+------------------+--------------+-------+------------+\n",
      "|country|         description|         designation|points|price|province|          region_1|      region_2|variety|      winery|\n",
      "+-------+--------------------+--------------------+------+-----+--------+------------------+--------------+-------+------------+\n",
      "|     US|The strong aroma ...|                null|  null| null|    null|              null|          null|   null|        null|\n",
      "|  Italy|This offers gener...|                null|  null| null|    null|              null|          null|   null|        null|\n",
      "|     US|This shows a deft...|                null|  null| null|    null|              null|          null|   null|        null|\n",
      "|  Italy|\"This nicely stru...| bitter almond an...|  null|   88|      24|Northeastern Italy|Venezia Giulia|   null|Pinot Grigio|\n",
      "|     US|               Ripe |                null|  null| null|    null|              null|          null|   null|        null|\n",
      "+-------+--------------------+--------------------+------+-----+--------+------------------+--------------+-------+------------+\n",
      "only showing top 5 rows\n",
      "\n"
     ]
    }
   ],
   "source": [
    "# Order a DataFrame by ascending values\n",
    "df.orderBy(df[\"points\"].asc()).show(5)"
   ]
  },
  {
   "cell_type": "code",
   "execution_count": 7,
   "metadata": {
    "colab": {
     "base_uri": "https://localhost:8080/",
     "height": 119
    },
    "colab_type": "code",
    "id": "-pREWDG0a-QQ",
    "outputId": "b12ab7ac-83b8-4cae-ffae-6f0f7f05cf92"
   },
   "outputs": [
    {
     "name": "stdout",
     "output_type": "stream",
     "text": [
      "+-----------------+\n",
      "|      avg(points)|\n",
      "+-----------------+\n",
      "|87.88834105383143|\n",
      "+-----------------+\n",
      "\n"
     ]
    }
   ],
   "source": [
    "# Import functions\n",
    "from pyspark.sql.functions import avg\n",
    "df.select(avg(\"points\")).show()"
   ]
  },
  {
   "cell_type": "code",
   "execution_count": 8,
   "metadata": {
    "colab": {
     "base_uri": "https://localhost:8080/",
     "height": 459
    },
    "colab_type": "code",
    "id": "Iy7YqMo7a-QU",
    "outputId": "b2e7185e-b0e9-457b-a884-5feeb26135fe",
    "scrolled": true
   },
   "outputs": [
    {
     "name": "stdout",
     "output_type": "stream",
     "text": [
      "+---------+--------------------+--------------------+------+-----+----------------+--------------------+--------------------+--------------------+--------------------+\n",
      "|  country|         description|         designation|points|price|        province|            region_1|            region_2|             variety|              winery|\n",
      "+---------+--------------------+--------------------+------+-----+----------------+--------------------+--------------------+--------------------+--------------------+\n",
      "| Bulgaria|This Bulgarian Ma...|             Bergul̩|    90|   15|        Bulgaria|                null|                null|              Mavrud|        Villa Melnik|\n",
      "|    Spain|Earthy plum and c...|              Amandi|    90|   17|         Galicia|       Ribeira Sacra|                null|             Menc�_a|      Don Bernardino|\n",
      "|       US|There's a lot to ...|                null|    90|   18|      California|Russian River Valley|              Sonoma|          Chardonnay|            De Loach|\n",
      "|       US|Massively fruity,...|                null|    91|   19|          Oregon|   Willamette Valley|   Willamette Valley|          Pinot Gris|   Trinity Vineyards|\n",
      "| Portugal|It is the ripe da...|             Premium|    91|   15|        Alentejo|                null|                null|      Portuguese Red|Adega Cooperativa...|\n",
      "|       US|Bright, light oak...|                null|    86|   10|      California|          California|    California Other|  Cabernet Sauvignon|      Belle Ambiance|\n",
      "| Portugal|The local Baga gr...|Marqu̻s de Marial...|    86|   12| Beira Atlantico|                null|                null|                Baga| Adega de Cantanhede|\n",
      "|       US|A smoky scent and...|     Small Lot Blend|    86|   13|      California|    Mendocino County|Mendocino/Lake Co...|          Chardonnay|            Parducci|\n",
      "| Portugal|This family-owned...|      Muros de Vinha|    86|   10|           Douro|                null|                null|      Portuguese Red|    Quinta do Portal|\n",
      "|   France|This is a smooth,...|Ch̢teau Beauvilla...|    86|   14|Southwest France|              Cahors|                null|       Malbec-Merlot|               Rigal|\n",
      "|       US|This is an easygo...|                null|    86|   18|      California|          California|    California Other|          Chardonnay|     The Naked Grape|\n",
      "|   France|Closer to Bordeau...|           Pigmentum|    86|   15|Southwest France|               Buzet|                null|       Merlot-Malbec|   Georges Vigouroux|\n",
      "|   France|This is a blend o...|           Pigmentum|    86|   10|Southwest France|   C̫tes de Gascogne|                null|Ugni Blanc-Colombard|   Georges Vigouroux|\n",
      "|       US|Aromas of ripe (l...|Tudor Hills Vineyard|    86|   17|      Washington|       Yakima Valley|     Columbia Valley|        Pinot Grigio| Martinez & Martinez|\n",
      "|       US|Strong wood smoke...|                null|    86|   12|      California|                Lodi|      Central Valley|      Cabernet Franc|           Ironstone|\n",
      "|       US|This medium-bodie...|                null|    86|   10|      California|          California|    California Other|          Chardonnay|       Leaping Horse|\n",
      "|       US|This wine is dry ...|                null|    86|   13|      California|          California|    California Other|         White Blend|        Kitchen Sink|\n",
      "| Portugal|This state-owned ...|Companhia das Lez...|    86|   12|            Tejo|                null|                null|      Portuguese Red|  Wines & Winemakers|\n",
      "|Argentina|This copper-tinte...|Terroir �_nico Pi...|    86|   12|Mendoza Province|           Tupungato|                null|                Ros̩|              Zorzal|\n",
      "|Argentina|Aromas of prune, ...|             Reserva|    86|   15|Mendoza Province|        Valle de Uco|                null|              Malbec|             Vi̱alba|\n",
      "+---------+--------------------+--------------------+------+-----+----------------+--------------------+--------------------+--------------------+--------------------+\n",
      "only showing top 20 rows\n",
      "\n"
     ]
    }
   ],
   "source": [
    "# Using SQL\n",
    "df.filter(\"price<20\").show()"
   ]
  },
  {
   "cell_type": "code",
   "execution_count": 9,
   "metadata": {
    "colab": {
     "base_uri": "https://localhost:8080/",
     "height": 459
    },
    "colab_type": "code",
    "id": "ww7emkaea-QY",
    "outputId": "633436c2-660b-4b6a-d872-b1bb709c11e9"
   },
   "outputs": [
    {
     "name": "stdout",
     "output_type": "stream",
     "text": [
      "+------+---------+--------------------+-----+\n",
      "|points|  country|              winery|price|\n",
      "+------+---------+--------------------+-----+\n",
      "|    90| Bulgaria|        Villa Melnik|   15|\n",
      "|    90|    Spain|      Don Bernardino|   17|\n",
      "|    90|       US|            De Loach|   18|\n",
      "|    91|       US|   Trinity Vineyards|   19|\n",
      "|    91| Portugal|Adega Cooperativa...|   15|\n",
      "|    86|       US|      Belle Ambiance|   10|\n",
      "|    86| Portugal| Adega de Cantanhede|   12|\n",
      "|    86|       US|            Parducci|   13|\n",
      "|    86| Portugal|    Quinta do Portal|   10|\n",
      "|    86|   France|               Rigal|   14|\n",
      "|    86|       US|     The Naked Grape|   18|\n",
      "|    86|   France|   Georges Vigouroux|   15|\n",
      "|    86|   France|   Georges Vigouroux|   10|\n",
      "|    86|       US| Martinez & Martinez|   17|\n",
      "|    86|       US|           Ironstone|   12|\n",
      "|    86|       US|       Leaping Horse|   10|\n",
      "|    86|       US|        Kitchen Sink|   13|\n",
      "|    86| Portugal|  Wines & Winemakers|   12|\n",
      "|    86|Argentina|              Zorzal|   12|\n",
      "|    86|Argentina|             Vi̱alba|   15|\n",
      "+------+---------+--------------------+-----+\n",
      "only showing top 20 rows\n",
      "\n"
     ]
    }
   ],
   "source": [
    "# Filter by price on certain columns\n",
    "df.filter(\"price<20\").select(['points','country', 'winery','price']).show()"
   ]
  },
  {
   "cell_type": "markdown",
   "metadata": {
    "colab_type": "text",
    "id": "WPuwAnZ_a-Qc"
   },
   "source": [
    "### Using Python Comparison Operators"
   ]
  },
  {
   "cell_type": "code",
   "execution_count": 10,
   "metadata": {
    "colab": {
     "base_uri": "https://localhost:8080/",
     "height": 459
    },
    "colab_type": "code",
    "id": "6WYZQGNIa-Qd",
    "outputId": "c7c760c3-fad7-4639-9ef5-767fc5a58b94"
   },
   "outputs": [
    {
     "name": "stdout",
     "output_type": "stream",
     "text": [
      "+-------+--------------------+--------------------+------+-----+------------------+------------------+-----------------+------------------+--------------------+\n",
      "|country|         description|         designation|points|price|          province|          region_1|         region_2|           variety|              winery|\n",
      "+-------+--------------------+--------------------+------+-----+------------------+------------------+-----------------+------------------+--------------------+\n",
      "|  Spain|Ripe aromas of fi...|Carodorum Selecci...|    96|  110|    Northern Spain|              Toro|             null|     Tinta de Toro|Bodega Carmen Rod...|\n",
      "|     US|Mac Watson honors...|Special Selected ...|    96|   90|        California|    Knights Valley|           Sonoma|   Sauvignon Blanc|            Macauley|\n",
      "|     US|This spent 20 mon...|             Reserve|    96|   65|            Oregon| Willamette Valley|Willamette Valley|        Pinot Noir|               Ponzi|\n",
      "| France|This is the top w...|         La Br��lade|    95|   66|          Provence|            Bandol|             null|Provence red blend|Domaine de la B̩gude|\n",
      "|  Spain|Deep, dense and p...|           Numanthia|    95|   73|    Northern Spain|              Toro|             null|     Tinta de Toro|           Numanthia|\n",
      "|  Spain|Slightly gritty b...|          San Rom��n|    95|   65|    Northern Spain|              Toro|             null|     Tinta de Toro|            Maurodos|\n",
      "|  Spain|Lush cedary black...|Carodorum �_nico ...|    95|  110|    Northern Spain|              Toro|             null|     Tinta de Toro|Bodega Carmen Rod...|\n",
      "|     US|This re-named vin...|              Silice|    95|   65|            Oregon|Chehalem Mountains|Willamette Valley|        Pinot Noir|           Bergstr̦m|\n",
      "|     US|The producer sour...|Gap's Crown Vineyard|    95|   60|        California|      Sonoma Coast|           Sonoma|        Pinot Noir|           Blue Farm|\n",
      "|  Italy|Elegance, complex...|  Ronco della Chiesa|    95|   80|Northeastern Italy|            Collio|             null|          Friulano|    Borgo del Tiglio|\n",
      "|     US|From 18-year-old ...|Estate Vineyard W...|    95|   48|            Oregon|      Ribbon Ridge|Willamette Valley|        Pinot Noir|Patricia Green Ce...|\n",
      "|     US|A standout even i...|      Weber Vineyard|    95|   48|            Oregon|      Dundee Hills|Willamette Valley|        Pinot Noir|Patricia Green Ce...|\n",
      "| France|This wine is in p...|Ch̢teau Montus Pr...|    95|   90|  Southwest France|           Madiran|             null|            Tannat|   Vignobles Brumont|\n",
      "|     US|With its sophisti...|      Grace Vineyard|    95|  185|            Oregon|      Dundee Hills|Willamette Valley|        Pinot Noir|      Domaine Serene|\n",
      "|     US|First made in 200...|              Sigrid|    95|   90|            Oregon| Willamette Valley|Willamette Valley|        Chardonnay|           Bergstr̦m|\n",
      "|  Spain|Nicely oaked blac...|6 A̱os Reserva Pr...|    95|   80|    Northern Spain|  Ribera del Duero|             null|       Tempranillo|            Valduero|\n",
      "|     US|This fresh and li...|Gap's Crown Vineyard|    95|   75|        California|      Sonoma Coast|           Sonoma|        Pinot Noir|        Gary Farrell|\n",
      "|     US|Heitz has made th...|          Grignolino|    95|   24|        California|       Napa Valley|             Napa|              Ros̩|               Heitz|\n",
      "|  Spain|Alluring, complex...|Prado Enea Gran R...|    95|   79|    Northern Spain|             Rioja|             null| Tempranillo Blend|                Muga|\n",
      "|     US|The apogee of thi...|       Giallo Solare|    95|   60|        California|       Edna Valley|    Central Coast|        Chardonnay|    Center of Effort|\n",
      "+-------+--------------------+--------------------+------+-----+------------------+------------------+-----------------+------------------+--------------------+\n",
      "only showing top 20 rows\n",
      "\n"
     ]
    }
   ],
   "source": [
    "# Same results only this time using python\n",
    "df.filter(df[\"price\"] < 200).show()"
   ]
  },
  {
   "cell_type": "code",
   "execution_count": 11,
   "metadata": {
    "colab": {
     "base_uri": "https://localhost:8080/",
     "height": 459
    },
    "colab_type": "code",
    "id": "JK41k68oa-Qh",
    "outputId": "6105d13f-acaa-46b7-9701-6c554e6f65cc"
   },
   "outputs": [
    {
     "name": "stdout",
     "output_type": "stream",
     "text": [
      "+-------+--------------------+--------------------+------+-----+------------------+--------------------+-----------------+------------------+--------------------+\n",
      "|country|         description|         designation|points|price|          province|            region_1|         region_2|           variety|              winery|\n",
      "+-------+--------------------+--------------------+------+-----+------------------+--------------------+-----------------+------------------+--------------------+\n",
      "|     US|This tremendous 1...|   Martha's Vineyard|    96|  235|        California|         Napa Valley|             Napa|Cabernet Sauvignon|               Heitz|\n",
      "|  Spain|Ripe aromas of fi...|Carodorum Selecci...|    96|  110|    Northern Spain|                Toro|             null|     Tinta de Toro|Bodega Carmen Rod...|\n",
      "|     US|Mac Watson honors...|Special Selected ...|    96|   90|        California|      Knights Valley|           Sonoma|   Sauvignon Blanc|            Macauley|\n",
      "|     US|This spent 20 mon...|             Reserve|    96|   65|            Oregon|   Willamette Valley|Willamette Valley|        Pinot Noir|               Ponzi|\n",
      "| France|This is the top w...|         La Br��lade|    95|   66|          Provence|              Bandol|             null|Provence red blend|Domaine de la B̩gude|\n",
      "|  Spain|Deep, dense and p...|           Numanthia|    95|   73|    Northern Spain|                Toro|             null|     Tinta de Toro|           Numanthia|\n",
      "|  Spain|Slightly gritty b...|          San Rom��n|    95|   65|    Northern Spain|                Toro|             null|     Tinta de Toro|            Maurodos|\n",
      "|  Spain|Lush cedary black...|Carodorum �_nico ...|    95|  110|    Northern Spain|                Toro|             null|     Tinta de Toro|Bodega Carmen Rod...|\n",
      "|     US|This re-named vin...|              Silice|    95|   65|            Oregon|  Chehalem Mountains|Willamette Valley|        Pinot Noir|           Bergstr̦m|\n",
      "|     US|The producer sour...|Gap's Crown Vineyard|    95|   60|        California|        Sonoma Coast|           Sonoma|        Pinot Noir|           Blue Farm|\n",
      "|  Italy|Elegance, complex...|  Ronco della Chiesa|    95|   80|Northeastern Italy|              Collio|             null|          Friulano|    Borgo del Tiglio|\n",
      "|     US|From 18-year-old ...|Estate Vineyard W...|    95|   48|            Oregon|        Ribbon Ridge|Willamette Valley|        Pinot Noir|Patricia Green Ce...|\n",
      "|     US|A standout even i...|      Weber Vineyard|    95|   48|            Oregon|        Dundee Hills|Willamette Valley|        Pinot Noir|Patricia Green Ce...|\n",
      "| France|This wine is in p...|Ch̢teau Montus Pr...|    95|   90|  Southwest France|             Madiran|             null|            Tannat|   Vignobles Brumont|\n",
      "|     US|With its sophisti...|      Grace Vineyard|    95|  185|            Oregon|        Dundee Hills|Willamette Valley|        Pinot Noir|      Domaine Serene|\n",
      "|     US|First made in 200...|              Sigrid|    95|   90|            Oregon|   Willamette Valley|Willamette Valley|        Chardonnay|           Bergstr̦m|\n",
      "|     US|This blockbuster,...|     Rainin Vineyard|    95|  325|        California|Diamond Mountain ...|             Napa|Cabernet Sauvignon|                Hall|\n",
      "|  Spain|Nicely oaked blac...|6 A̱os Reserva Pr...|    95|   80|    Northern Spain|    Ribera del Duero|             null|       Tempranillo|            Valduero|\n",
      "| France|Coming from a sev...|       Le Pigeonnier|    95|  290|  Southwest France|              Cahors|             null|            Malbec|  Ch̢teau Lagr̩zette|\n",
      "|     US|This fresh and li...|Gap's Crown Vineyard|    95|   75|        California|        Sonoma Coast|           Sonoma|        Pinot Noir|        Gary Farrell|\n",
      "+-------+--------------------+--------------------+------+-----+------------------+--------------------+-----------------+------------------+--------------------+\n",
      "only showing top 20 rows\n",
      "\n"
     ]
    }
   ],
   "source": [
    "df.filter( (df[\"price\"] < 200) | (df['points'] > 80) ).show()"
   ]
  },
  {
   "cell_type": "code",
   "execution_count": 12,
   "metadata": {
    "colab": {
     "base_uri": "https://localhost:8080/",
     "height": 459
    },
    "colab_type": "code",
    "id": "bmlEBelya-Qo",
    "outputId": "7713ab86-f3fa-4c36-e8d6-0044de4fbc9c"
   },
   "outputs": [
    {
     "name": "stdout",
     "output_type": "stream",
     "text": [
      "+-------+--------------------+--------------------+------+-----+----------+--------------------+-----------------+------------------+--------------------+\n",
      "|country|         description|         designation|points|price|  province|            region_1|         region_2|           variety|              winery|\n",
      "+-------+--------------------+--------------------+------+-----+----------+--------------------+-----------------+------------------+--------------------+\n",
      "|     US|This tremendous 1...|   Martha's Vineyard|    96|  235|California|         Napa Valley|             Napa|Cabernet Sauvignon|               Heitz|\n",
      "|     US|Mac Watson honors...|Special Selected ...|    96|   90|California|      Knights Valley|           Sonoma|   Sauvignon Blanc|            Macauley|\n",
      "|     US|This spent 20 mon...|             Reserve|    96|   65|    Oregon|   Willamette Valley|Willamette Valley|        Pinot Noir|               Ponzi|\n",
      "|     US|This re-named vin...|              Silice|    95|   65|    Oregon|  Chehalem Mountains|Willamette Valley|        Pinot Noir|           Bergstr̦m|\n",
      "|     US|The producer sour...|Gap's Crown Vineyard|    95|   60|California|        Sonoma Coast|           Sonoma|        Pinot Noir|           Blue Farm|\n",
      "|     US|From 18-year-old ...|Estate Vineyard W...|    95|   48|    Oregon|        Ribbon Ridge|Willamette Valley|        Pinot Noir|Patricia Green Ce...|\n",
      "|     US|A standout even i...|      Weber Vineyard|    95|   48|    Oregon|        Dundee Hills|Willamette Valley|        Pinot Noir|Patricia Green Ce...|\n",
      "|     US|With its sophisti...|      Grace Vineyard|    95|  185|    Oregon|        Dundee Hills|Willamette Valley|        Pinot Noir|      Domaine Serene|\n",
      "|     US|First made in 200...|              Sigrid|    95|   90|    Oregon|   Willamette Valley|Willamette Valley|        Chardonnay|           Bergstr̦m|\n",
      "|     US|This blockbuster,...|     Rainin Vineyard|    95|  325|California|Diamond Mountain ...|             Napa|Cabernet Sauvignon|                Hall|\n",
      "|     US|This fresh and li...|Gap's Crown Vineyard|    95|   75|California|        Sonoma Coast|           Sonoma|        Pinot Noir|        Gary Farrell|\n",
      "|     US|Heitz has made th...|          Grignolino|    95|   24|California|         Napa Valley|             Napa|              Ros̩|               Heitz|\n",
      "|     US|The apogee of thi...|       Giallo Solare|    95|   60|California|         Edna Valley|    Central Coast|        Chardonnay|    Center of Effort|\n",
      "|     US|San Jose-based pr...|       R-Bar-R Ranch|    95|   45|California|Santa Cruz Mountains|    Central Coast|        Pinot Noir|            Comartin|\n",
      "|     US|Bergstr̦m has mad...|       Shea Vineyard|    94|   62|    Oregon|   Willamette Valley|             null|        Pinot Noir|           Bergstr̦m|\n",
      "|     US|Focused and dense...|             Abetina|    94|  105|    Oregon|   Willamette Valley|Willamette Valley|        Pinot Noir|               Ponzi|\n",
      "|     US|Cranberry, baked ...|     Garys' Vineyard|    94|   60|California|Santa Lucia Highl...|    Central Coast|        Pinot Noir|                Roar|\n",
      "|     US|This standout Roc...|     The Funk Estate|    94|   60|Washington|Walla Walla Valle...|  Columbia Valley|             Syrah|              Saviah|\n",
      "|     US|Steely and perfum...|            Babushka|    90|   37|California|Russian River Valley|           Sonoma|        Chardonnay|            Zepaltas|\n",
      "|     US|The aromas entice...| Conner Lee Vineyard|    90|   42|Washington|Columbia Valley (WA)|  Columbia Valley|        Chardonnay|                Buty|\n",
      "+-------+--------------------+--------------------+------+-----+----------+--------------------+-----------------+------------------+--------------------+\n",
      "only showing top 20 rows\n",
      "\n"
     ]
    }
   ],
   "source": [
    "df.filter(df[\"country\"] == \"US\").show()"
   ]
  },
  {
   "cell_type": "code",
   "execution_count": 0,
   "metadata": {
    "colab": {},
    "colab_type": "code",
    "id": "mU8w-D46cPtA"
   },
   "outputs": [],
   "source": []
  }
 ],
 "metadata": {
  "anaconda-cloud": {},
  "colab": {
   "collapsed_sections": [],
   "name": "spark_filtering.ipynb",
   "provenance": []
  },
  "kernelspec": {
   "display_name": "Python 3",
   "language": "python",
   "name": "python3"
  },
  "language_info": {
   "codemirror_mode": {
    "name": "ipython",
    "version": 3
   },
   "file_extension": ".py",
   "mimetype": "text/x-python",
   "name": "python",
   "nbconvert_exporter": "python",
   "pygments_lexer": "ipython3",
   "version": "3.6.10"
  },
  "varInspector": {
   "cols": {
    "lenName": 16,
    "lenType": 16,
    "lenVar": 40
   },
   "kernels_config": {
    "python": {
     "delete_cmd_postfix": "",
     "delete_cmd_prefix": "del ",
     "library": "var_list.py",
     "varRefreshCmd": "print(var_dic_list())"
    },
    "r": {
     "delete_cmd_postfix": ") ",
     "delete_cmd_prefix": "rm(",
     "library": "var_list.r",
     "varRefreshCmd": "cat(var_dic_list()) "
    }
   },
   "types_to_exclude": [
    "module",
    "function",
    "builtin_function_or_method",
    "instance",
    "_Feature"
   ],
   "window_display": false
  }
 },
 "nbformat": 4,
 "nbformat_minor": 1
}
