{
  "nbformat": 4,
  "nbformat_minor": 0,
  "metadata": {
    "kernelspec": {
      "display_name": "Python [default]",
      "language": "python",
      "name": "python3"
    },
    "language_info": {
      "codemirror_mode": {
        "name": "ipython",
        "version": 3
      },
      "file_extension": ".py",
      "mimetype": "text/x-python",
      "name": "python",
      "nbconvert_exporter": "python",
      "pygments_lexer": "ipython3",
      "version": "3.6.5"
    },
    "colab": {
      "name": "nlp_stopwords.ipynb",
      "provenance": []
    }
  },
  "cells": [
    {
      "cell_type": "code",
      "metadata": {
        "id": "8J_UV-nFpkAX",
        "colab_type": "code",
        "colab": {}
      },
      "source": [
        "# Install Java, Spark, and Findspark\n",
        "!apt-get install openjdk-8-jdk-headless -qq > /dev/null\n",
        "!wget -q http://www-us.apache.org/dist/spark/spark-2.4.4/spark-2.4.4-bin-hadoop2.7.tgz\n",
        "!tar xf spark-2.4.4-bin-hadoop2.7.tgz\n",
        "!pip install -q findspark\n",
        "\n",
        "# Set Environment Variables\n",
        "import os\n",
        "os.environ[\"JAVA_HOME\"] = \"/usr/lib/jvm/java-8-openjdk-amd64\"\n",
        "os.environ[\"SPARK_HOME\"] = \"/content/spark-2.4.4-bin-hadoop2.7\"\n",
        "\n",
        "# Start a SparkSession\n",
        "import findspark\n",
        "findspark.init()\n",
        "\n",
        "# Start Spark session\n",
        "from pyspark.sql import SparkSession\n",
        "spark = SparkSession.builder.appName(\"StopWords\").getOrCreate()"
      ],
      "execution_count": 0,
      "outputs": []
    },
    {
      "cell_type": "code",
      "metadata": {
        "id": "VGZTJr7LphF-",
        "colab_type": "code",
        "colab": {}
      },
      "source": [
        "from pyspark.ml.feature import Tokenizer, StopWordsRemover"
      ],
      "execution_count": 0,
      "outputs": []
    },
    {
      "cell_type": "code",
      "metadata": {
        "id": "Ye-TwiaEphGF",
        "colab_type": "code",
        "colab": {
          "base_uri": "https://localhost:8080/",
          "height": 204
        },
        "outputId": "c6b38c92-159f-4406-ff3f-e76cf97510d4"
      },
      "source": [
        "# Read in data from S3 Buckets\n",
        "from pyspark import SparkFiles\n",
        "url =\"https://s3.amazonaws.com/dataviz-curriculum/day_2/food_reviews.csv\"\n",
        "spark.sparkContext.addFile(url)\n",
        "df = spark.read.csv(SparkFiles.get(\"food_reviews.csv\"), sep=\",\", header=True)\n",
        "\n",
        "# Show DataFrame\n",
        "df.show()"
      ],
      "execution_count": 8,
      "outputs": [
        {
          "output_type": "stream",
          "text": [
            "+--------------------+\n",
            "|             Reviews|\n",
            "+--------------------+\n",
            "|The pasta was a d...|\n",
            "|We ate the fish i...|\n",
            "|My family did not...|\n",
            "|The girl even tri...|\n",
            "|this is his job a...|\n",
            "|I'm always greete...|\n",
            "+--------------------+\n",
            "\n"
          ],
          "name": "stdout"
        }
      ]
    },
    {
      "cell_type": "code",
      "metadata": {
        "id": "EAzerS4nphGJ",
        "colab_type": "code",
        "colab": {}
      },
      "source": [
        "# Tokenize DataFrame\n",
        "review_data = Tokenizer(inputCol=\"Reviews\", outputCol=\"Words\")"
      ],
      "execution_count": 0,
      "outputs": []
    },
    {
      "cell_type": "code",
      "metadata": {
        "id": "r8VQQnWuphGN",
        "colab_type": "code",
        "colab": {
          "base_uri": "https://localhost:8080/",
          "height": 204
        },
        "outputId": "346f6b2c-c14c-41f0-8137-2b632af277d6"
      },
      "source": [
        "# Transform DataFrame\n",
        "reviewed = review_data.transform(df)\n",
        "reviewed.show()"
      ],
      "execution_count": 10,
      "outputs": [
        {
          "output_type": "stream",
          "text": [
            "+--------------------+--------------------+\n",
            "|             Reviews|               Words|\n",
            "+--------------------+--------------------+\n",
            "|The pasta was a d...|[the, pasta, was,...|\n",
            "|We ate the fish i...|[we, ate, the, fi...|\n",
            "|My family did not...|[my, family, did,...|\n",
            "|The girl even tri...|[the, girl, even,...|\n",
            "|this is his job a...|[this, is, his, j...|\n",
            "|I'm always greete...|[i'm, always, gre...|\n",
            "+--------------------+--------------------+\n",
            "\n"
          ],
          "name": "stdout"
        }
      ]
    },
    {
      "cell_type": "code",
      "metadata": {
        "id": "s6MR_uVFphGR",
        "colab_type": "code",
        "colab": {}
      },
      "source": [
        "# Remove stop words\n",
        "remover = StopWordsRemover(inputCol=\"Words\", outputCol=\"filtered\")"
      ],
      "execution_count": 0,
      "outputs": []
    },
    {
      "cell_type": "code",
      "metadata": {
        "id": "S9zS5q8WphGX",
        "colab_type": "code",
        "colab": {
          "base_uri": "https://localhost:8080/",
          "height": 204
        },
        "outputId": "918c723b-0318-4c42-fd95-d0e493c3b842"
      },
      "source": [
        "# Transform new DataFrame\n",
        "newFrame = remover.transform(reviewed)\n",
        "newFrame.show()"
      ],
      "execution_count": 12,
      "outputs": [
        {
          "output_type": "stream",
          "text": [
            "+--------------------+--------------------+--------------------+\n",
            "|             Reviews|               Words|            filtered|\n",
            "+--------------------+--------------------+--------------------+\n",
            "|The pasta was a d...|[the, pasta, was,...|       [pasta, dish]|\n",
            "|We ate the fish i...|[we, ate, the, fi...|  [ate, fish, tasty]|\n",
            "|My family did not...|[my, family, did,...|[family, like, food]|\n",
            "|The girl even tri...|[the, girl, even,...|[girl, even, trie...|\n",
            "|this is his job a...|[this, is, his, j...|[job, since, prob...|\n",
            "|I'm always greete...|[i'm, always, gre...|[always, greeted,...|\n",
            "+--------------------+--------------------+--------------------+\n",
            "\n"
          ],
          "name": "stdout"
        }
      ]
    },
    {
      "cell_type": "code",
      "metadata": {
        "id": "1UxSpRtiphGb",
        "colab_type": "code",
        "colab": {
          "base_uri": "https://localhost:8080/",
          "height": 204
        },
        "outputId": "850d8023-7ce8-4c12-af28-47a6289c7bab"
      },
      "source": [
        "# Show simplified review\n",
        "newFrame.select(\"filtered\").show(truncate=False)"
      ],
      "execution_count": 13,
      "outputs": [
        {
          "output_type": "stream",
          "text": [
            "+-----------------------------------------------------------------------------------------------------------------------------------------------------------------------------+\n",
            "|filtered                                                                                                                                                                     |\n",
            "+-----------------------------------------------------------------------------------------------------------------------------------------------------------------------------+\n",
            "|[pasta, dish]                                                                                                                                                                |\n",
            "|[ate, fish, tasty]                                                                                                                                                           |\n",
            "|[family, like, food]                                                                                                                                                         |\n",
            "|[girl, even, tried, spread, half, cover, roll.]                                                                                                                              |\n",
            "|[job, since, probably, slowest, time, day, least, expect, take, order, put, sandwich, through., course, apology., wait, woman, finish, couple, came, finally, got, sandwich.]|\n",
            "|[always, greeted, , employees, always, seem, eager, help.]                                                                                                                   |\n",
            "+-----------------------------------------------------------------------------------------------------------------------------------------------------------------------------+\n",
            "\n"
          ],
          "name": "stdout"
        }
      ]
    },
    {
      "cell_type": "code",
      "metadata": {
        "id": "--hEhQLtppPf",
        "colab_type": "code",
        "colab": {}
      },
      "source": [
        ""
      ],
      "execution_count": 0,
      "outputs": []
    }
  ]
}