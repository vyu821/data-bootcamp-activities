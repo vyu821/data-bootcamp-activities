{
 "cells": [
  {
   "cell_type": "code",
   "execution_count": 1,
   "metadata": {
    "collapsed": true
   },
   "outputs": [],
   "source": [
    "import pandas as pd\n",
    "import re\n",
    "pd.options.display.max_colwidth = 100"
   ]
  },
  {
   "cell_type": "code",
   "execution_count": 2,
   "metadata": {},
   "outputs": [
    {
     "data": {
      "text/html": [
       "<div>\n",
       "<style scoped>\n",
       "    .dataframe tbody tr th:only-of-type {\n",
       "        vertical-align: middle;\n",
       "    }\n",
       "\n",
       "    .dataframe tbody tr th {\n",
       "        vertical-align: top;\n",
       "    }\n",
       "\n",
       "    .dataframe thead th {\n",
       "        text-align: right;\n",
       "    }\n",
       "</style>\n",
       "<table border=\"1\" class=\"dataframe\">\n",
       "  <thead>\n",
       "    <tr style=\"text-align: right;\">\n",
       "      <th></th>\n",
       "      <th>text</th>\n",
       "    </tr>\n",
       "  </thead>\n",
       "  <tbody>\n",
       "    <tr>\n",
       "      <th>0</th>\n",
       "      <td>The Adventures of Sherlock Holmes</td>\n",
       "    </tr>\n",
       "    <tr>\n",
       "      <th>1</th>\n",
       "      <td>by Arthur Conan Doyle</td>\n",
       "    </tr>\n",
       "    <tr>\n",
       "      <th>2</th>\n",
       "      <td>Contents</td>\n",
       "    </tr>\n",
       "    <tr>\n",
       "      <th>3</th>\n",
       "      <td>I.     A Scandal in Bohemia</td>\n",
       "    </tr>\n",
       "    <tr>\n",
       "      <th>4</th>\n",
       "      <td>II.    The Red-Headed League</td>\n",
       "    </tr>\n",
       "  </tbody>\n",
       "</table>\n",
       "</div>"
      ],
      "text/plain": [
       "                                text\n",
       "0  The Adventures of Sherlock Holmes\n",
       "1              by Arthur Conan Doyle\n",
       "2                           Contents\n",
       "3        I.     A Scandal in Bohemia\n",
       "4       II.    The Red-Headed League"
      ]
     },
     "execution_count": 2,
     "metadata": {},
     "output_type": "execute_result"
    }
   ],
   "source": [
    "# load in Sherlock Holmes text\n",
    "sherlock_file = '../Resources/sherlock.txt'\n",
    "\n",
    "sherlock_df = pd.read_csv(sherlock_file, sep='\\n', header=None)\n",
    "sherlock_df.columns = ['text']\n",
    "sherlock_df.head()"
   ]
  },
  {
   "cell_type": "code",
   "execution_count": 18,
   "metadata": {},
   "outputs": [
    {
     "data": {
      "text/html": [
       "<div>\n",
       "<style scoped>\n",
       "    .dataframe tbody tr th:only-of-type {\n",
       "        vertical-align: middle;\n",
       "    }\n",
       "\n",
       "    .dataframe tbody tr th {\n",
       "        vertical-align: top;\n",
       "    }\n",
       "\n",
       "    .dataframe thead th {\n",
       "        text-align: right;\n",
       "    }\n",
       "</style>\n",
       "<table border=\"1\" class=\"dataframe\">\n",
       "  <thead>\n",
       "    <tr style=\"text-align: right;\">\n",
       "      <th></th>\n",
       "      <th></th>\n",
       "      <th>0</th>\n",
       "    </tr>\n",
       "    <tr>\n",
       "      <th></th>\n",
       "      <th>match</th>\n",
       "      <th></th>\n",
       "    </tr>\n",
       "  </thead>\n",
       "  <tbody>\n",
       "    <tr>\n",
       "      <th>1777</th>\n",
       "      <th>0</th>\n",
       "      <td>Zealand</td>\n",
       "    </tr>\n",
       "    <tr>\n",
       "      <th>3500</th>\n",
       "      <th>0</th>\n",
       "      <td>zero</td>\n",
       "    </tr>\n",
       "    <tr>\n",
       "      <th>5678</th>\n",
       "      <th>0</th>\n",
       "      <td>zest</td>\n",
       "    </tr>\n",
       "    <tr>\n",
       "      <th>8514</th>\n",
       "      <th>0</th>\n",
       "      <td>zero</td>\n",
       "    </tr>\n",
       "  </tbody>\n",
       "</table>\n",
       "</div>"
      ],
      "text/plain": [
       "                  0\n",
       "     match         \n",
       "1777 0      Zealand\n",
       "3500 0         zero\n",
       "5678 0         zest\n",
       "8514 0         zero"
      ]
     },
     "execution_count": 18,
     "metadata": {},
     "output_type": "execute_result"
    }
   ],
   "source": [
    "# extract all words that start with 'z'\n",
    "p = '\\W(z\\w*)\\W'\n",
    "sherlock_df['text'].str.extractall(p, flags=re.I).dropna()"
   ]
  },
  {
   "cell_type": "code",
   "execution_count": 29,
   "metadata": {},
   "outputs": [
    {
     "data": {
      "text/plain": [
       " quietly         4\n",
       " turned          3\n",
       " returned        3\n",
       " pushed          3\n",
       " answered        3\n",
       " laughed         3\n",
       " blandly         3\n",
       " sprang          3\n",
       " suavely         2\n",
       " chuckled        2\n",
       " walked          2\n",
       " pulled          2\n",
       " clapped         2\n",
       " leaned          2\n",
       " cheerily        2\n",
       " gravely         2\n",
       " changed         1\n",
       " hailed          1\n",
       " impatient       1\n",
       " gently          1\n",
       " stopped         1\n",
       " twisted         1\n",
       " closed          1\n",
       " glanced         1\n",
       " struck          1\n",
       " unlocked        1\n",
       " interposed      1\n",
       " sternly         1\n",
       " caught          1\n",
       " coldly          1\n",
       " nodded          1\n",
       " grinned         1\n",
       " lately          1\n",
       " demurely        1\n",
       " continued       1\n",
       " laying          1\n",
       " remarked        1\n",
       " standing        1\n",
       " sweetly         1\n",
       " before          1\n",
       " rushed          1\n",
       " stepped         1\n",
       " without         1\n",
       " thrust          1\n",
       " seemed          1\n",
       " looked          1\n",
       " calmly          1\n",
       " refused         1\n",
       " suddenly        1\n",
       " staggered       1\n",
       " carelessly      1\n",
       " thoughtfully    1\n",
       " welcomed        1\n",
       " desired         1\n",
       " scribbled       1\n",
       "Name: 0, dtype: int64"
      ]
     },
     "execution_count": 29,
     "metadata": {},
     "output_type": "execute_result"
    }
   ],
   "source": [
    "# Find all the words 6 letters or longer that come after \"Holmes\" in the text and count their frequency\n",
    "p = '(?:Holmes)(\\s*\\w{6,})'\n",
    "sherlock_df['text'].str.extractall(p, flags=re.I)[0].value_counts()"
   ]
  },
  {
   "cell_type": "code",
   "execution_count": 31,
   "metadata": {},
   "outputs": [
    {
     "data": {
      "text/plain": [
       " answered      3\n",
       " returned      3\n",
       " pushed        3\n",
       " turned        3\n",
       " pulled        2\n",
       " sprang        2\n",
       " laughed       2\n",
       " desired       1\n",
       " nodded        1\n",
       " chuckled      1\n",
       " thrust        1\n",
       " stopped       1\n",
       " refused       1\n",
       " struck        1\n",
       " walked        1\n",
       " continued     1\n",
       " unlocked      1\n",
       " staggered     1\n",
       " clapped       1\n",
       " changed       1\n",
       " interposed    1\n",
       " welcomed      1\n",
       " rushed        1\n",
       " before        1\n",
       " twisted       1\n",
       " leaned        1\n",
       " without       1\n",
       " impatient     1\n",
       " hailed        1\n",
       " caught        1\n",
       " remarked      1\n",
       " closed        1\n",
       " laying        1\n",
       " grinned       1\n",
       " scribbled     1\n",
       "Name: 0, dtype: int64"
      ]
     },
     "execution_count": 31,
     "metadata": {},
     "output_type": "execute_result"
    }
   ],
   "source": [
    "# Find all the words 6 letters or longer that don't end in \"ly\" that come after \"Holmes\" in the text and count their frequency\n",
    "p = '(?:holmes)(?!.+ly)(\\s*\\w{6,})'\n",
    "sherlock_df['text'].str.extractall(p, flags=re.I)[0].value_counts()"
   ]
  },
  {
   "cell_type": "code",
   "execution_count": null,
   "metadata": {
    "collapsed": true
   },
   "outputs": [],
   "source": []
  }
 ],
 "metadata": {
  "kernelspec": {
   "display_name": "Python 3",
   "language": "python",
   "name": "python3"
  },
  "language_info": {
   "codemirror_mode": {
    "name": "ipython",
    "version": 3
   },
   "file_extension": ".py",
   "mimetype": "text/x-python",
   "name": "python",
   "nbconvert_exporter": "python",
   "pygments_lexer": "ipython3",
   "version": "3.6.3"
  }
 },
 "nbformat": 4,
 "nbformat_minor": 2
}
