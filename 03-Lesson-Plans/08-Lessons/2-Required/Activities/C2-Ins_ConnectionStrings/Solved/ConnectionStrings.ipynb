{
 "cells": [
  {
   "cell_type": "code",
   "execution_count": 4,
   "metadata": {},
   "outputs": [
    {
     "name": "stdout",
     "output_type": "stream",
     "text": [
      "____://____:____@____:____/____\n"
     ]
    }
   ],
   "source": [
    "protocol = \"____\"\n",
    "user = \"____\"\n",
    "password = \"____\"\n",
    "location = \"____\"\n",
    "port = \"____\"\n",
    "database = \"____\"\n",
    "\n",
    "connection_string = f\"{protocol}://{user}:{password}@{location}:{port}/{database}\"\n",
    "print(connection_string)"
   ]
  },
  {
   "cell_type": "code",
   "execution_count": 3,
   "metadata": {},
   "outputs": [
    {
     "name": "stdout",
     "output_type": "stream",
     "text": [
      "postgres://admin:p@ssw0rd@localhost:5432/db\n"
     ]
    }
   ],
   "source": [
    "protocol = \"postgres\"\n",
    "user = \"admin\"\n",
    "password = \"p@ssw0rd\"\n",
    "location = \"localhost\"\n",
    "port = \"5432\"\n",
    "database = \"db\"\n",
    "\n",
    "connection_string = f\"{protocol}://{user}:{password}@{location}:{port}/{database}\"\n",
    "print(connection_string)"
   ]
  },
  {
   "cell_type": "code",
   "execution_count": null,
   "metadata": {
    "collapsed": true
   },
   "outputs": [],
   "source": []
  }
 ],
 "metadata": {
  "kernelspec": {
   "display_name": "Python 3",
   "language": "python",
   "name": "python3"
  },
  "language_info": {
   "codemirror_mode": {
    "name": "ipython",
    "version": 3
   },
   "file_extension": ".py",
   "mimetype": "text/x-python",
   "name": "python",
   "nbconvert_exporter": "python",
   "pygments_lexer": "ipython3",
   "version": "3.6.3"
  }
 },
 "nbformat": 4,
 "nbformat_minor": 2
}
