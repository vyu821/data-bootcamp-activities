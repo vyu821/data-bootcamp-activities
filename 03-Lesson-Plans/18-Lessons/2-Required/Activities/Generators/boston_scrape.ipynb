{
"cells": [
{
"cell_type": "code",
"execution_count": null,
"metadata": {
"collapsed": true
},
"outputs": [],
"source": [
"import csv\n",
"import errno\n",
"import itertools\n",
"import os\n",
"import time\n",
"\n",
"from bs4 import BeautifulSoup\n",
"import click\n",
"import dataset\n",
"import funcy as fy\n",
"import requests\n",
"\n",
"from pyquery import PyQuery\n",
"import time\n",
"import traceback\n",
"\n",
"import numpy as np\n",
"import pandas as pd\n",
"\n",
"import seaborn as sns\n",
"import matplotlib.pyplot as plt\n",
"sns.set_style(\"whitegrid\")\n",
"%matplotlib inline\n",
"\n",
"from datetime import datetime\n",
"import time"
]
},
{
"cell_type": "code",
"execution_count": null,
"metadata": {
"collapsed": true
},
"outputs": [],
"source": [
"state_id = 0\n",
"gender = 0\n",
"number_of_results = 40000\n",
"headers = {\n",
"        'Accept': 'text/html,application/xhtml+xml,application/xml;q=0.9,image/webp,*/*;q=0.8',\n",
"        'Accept-Encoding': 'gzip, deflate',\n",
"        'Accept-Language': 'en-US,en;q=0.8',\n",
"        'Cache-Control': 'max-age=0',\n",
"        'Content-Type': 'application/x-www-form-urlencoded',\n",
"        'Origin': 'http://registration.baa.org',\n",
"        'Referer': 'http://registration.baa.org/2016/cf/Public/iframe_ResultsSearch.cfm?mode=results',\n",
"    }\n",
"params = {\n",
"        'mode': 'results',\n",
"        'criteria': '',\n",
"        'StoredProcParamsOn': 'yes',\n",
"        'VarGenderID': gender,\n",
"        'VarBibNumber': '',\n",
"        'VarLastName': '',\n",
"        'VarFirstName': '',\n",
"        'VarStateID': state_id,\n",
"        'VarCountryOfResID': 0,\n",
"        'VarCountryOfCtzID': 0,\n",
"        'VarReportingSegID': 1,\n",
"        'VarAwardsDivID': 0,\n",
"        'VarQualClassID': 0,\n",
"        'VarCity': '',\n",
"        'VarTargetCount': number_of_results,\n",
"        'records': 25,\n",
"        'headerexists': 'Yes',\n",
"        'bordersize': 0,\n",
"        'bordercolor': '#ffffff',\n",
"        'rowcolorone': '#FFCC33',\n",
"        'rowcolortwo': '#FFCC33',\n",
"        'headercolor': '#ffffff',\n",
"        'headerfontface': 'Verdana,Arial,Helvetica,sans-serif',\n",
"        'headerfontcolor': '#004080',\n",
"        'headerfontsize': '12px',\n",
"        'fontface': 'Verdana,Arial,Helvetica,sans-serif',\n",
"        'fontcolor': '#000099',\n",
"        'fontsize': '10px',\n",
"        'linkfield': 'FormattedSortName',\n",
"        'linkurl': 'OpenDetailsWindow',\n",
"        'linkparams': 'RaceAppID',\n",
"        'queryname': 'SearchResults',\n",
"        'tablefields': 'FullBibNumber,FormattedSortName,AgeOnRaceDay,GenderCode,'\n",
"                       'City,StateAbbrev,CountryOfResAbbrev,CountryOfCtzAbbrev,'\n",
"                       'DisabilityGroup',\n",
"    }\n"
]
},
{
"cell_type": "code",
"execution_count": null,
"metadata": {
"collapsed": true
},
"outputs": [],
"source": [
"results = []\n",
"for page_number, start in enumerate(itertools.count(1, 25)):\n",
"        # Don't hammer the server. Give it a sec between requests.\n",
"        time.sleep(1.0)\n",
"\n",
"        click.echo('page %d of %d' % (page_number + 1, number_of_results/25))\n",
"        response = requests.post(\n",
"            'http://registration.baa.org/2016/cf/Public/iframe_ResultsSearch.cfm',\n",
"            headers=headers,\n",
"            params=params,\n",
"            data={'start': start, 'next': 'Next 25 Records'},\n",
"        )\n",
"        #peopleList = extract_data(response.content)\n",
"        soup = BeautifulSoup(response.text, 'lxml')\n",
"        table = soup.find(\"table\", attrs={\"class\": \"tablegrid_table\"})\n",
"        rows = table.findAll(\"tr\")\n",
"        for row in rows:\n",
"            a = [t.text.strip() for t in row.findAll(\"td\")][0:]\n",
"            #Don't store lines without data\n",
"            if len(a) > 0 and a != [''] and a !=['',''] and a != ['', '', '']: \n",
"                results.append(a)\n",
"\n",
"        # Only yield if there actually are results. Just found this random\n",
"        # tr_header thing in the HTML of the pages that have results, but not\n",
"        # empty results pages.\n",
"        if 'tr_header' in response.text:\n",
"            (page_number, response.text)\n",
"        else:\n",
"            assert 'Next 25 Records' not in response.text\n",
"            click.echo('  No results found.')\n",
"            break\n",
"\n",
"        # No more pages!\n",
"        if 'Next 25 Records' not in response.text:\n",
"            break"
]
},
{
"cell_type": "code",
"execution_count": null,
"metadata": {
"collapsed": true
},
"outputs": [],
"source": [
"data = []\n",
"for i, result in enumerate(results):\n",
"    if i%4 == 0:\n",
"        data.append(results[i] + results[i+1][1:])\n"
]
},
{
"cell_type": "code",
"execution_count": null,
"metadata": {
"collapsed": true
},
"outputs": [],
"source": [
"columns = ['Bib', 'Name', 'Age', 'M/F', 'City', 'State', 'Country', 'Citizen', '', '5K', '10K', '15K', '20K', 'Half',\n",
"          '25K', '30K', '35K', '40K', 'Pace', 'Proj Time', 'Official Time', 'Overall', 'Gender', 'Division']"
]
},
{
"cell_type": "code",
"execution_count": null,
"metadata": {
"collapsed": true
},
"outputs": [],
"source": [
"filename = 'marathon_results_2016.csv'"
]
},
{
"cell_type": "code",
"execution_count": null,
"metadata": {
"collapsed": true
},
"outputs": [],
"source": [
"#df.to_csv(filename, index=False)"
]
}
],
"metadata": {
"kernelspec": {
"display_name": "Python [conda root]",
"language": "python",
"name": "conda-root-py"
},
"language_info": {
"codemirror_mode": {
"name": "ipython",
"version": 3
},
"file_extension": ".py",
"mimetype": "text/x-python",
"name": "python",
"nbconvert_exporter": "python",
"pygments_lexer": "ipython3",
"version": "3.5.2"
}
},
"nbformat": 4,
"nbformat_minor": 2
}