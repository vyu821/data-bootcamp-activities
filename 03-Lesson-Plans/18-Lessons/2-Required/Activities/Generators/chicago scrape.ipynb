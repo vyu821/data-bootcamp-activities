{
 "cells": [
  {
   "cell_type": "code",
   "execution_count": 1,
   "metadata": {
    "collapsed": true
   },
   "outputs": [],
   "source": [
    "import pandas as pd\n",
    "from requests import get\n",
    "from bs4 import BeautifulSoup\n",
    "from time import time\n",
    "from random import randint"
   ]
  },
  {
   "cell_type": "code",
   "execution_count": 2,
   "metadata": {
    "collapsed": true
   },
   "outputs": [],
   "source": [
    "year=[2018]"
   ]
  },
  {
   "cell_type": "code",
   "execution_count": 3,
   "metadata": {},
   "outputs": [
    {
     "name": "stdout",
     "output_type": "stream",
     "text": [
      "Requesting page 1, elapsed time:3.27592134475708\n",
      "Requesting page 2, elapsed time:6.564172029495239\n",
      "Requesting page 3, elapsed time:10.227429151535034\n",
      "Requesting page 4, elapsed time:13.865411281585693\n",
      "Requesting page 5, elapsed time:17.501312017440796\n",
      "Requesting page 6, elapsed time:21.758413791656494\n",
      "Requesting page 7, elapsed time:25.20674204826355\n",
      "Requesting page 8, elapsed time:30.280551433563232\n",
      "Requesting page 9, elapsed time:33.93698191642761\n",
      "Requesting page 10, elapsed time:37.38188624382019\n",
      "Requesting page 11, elapsed time:41.1566207408905\n",
      "Requesting page 12, elapsed time:44.74666976928711\n",
      "Requesting page 13, elapsed time:48.27193784713745\n",
      "Requesting page 14, elapsed time:51.81387805938721\n",
      "Requesting page 15, elapsed time:55.636759757995605\n",
      "Requesting page 16, elapsed time:59.17931628227234\n",
      "Requesting page 17, elapsed time:63.11523962020874\n",
      "Requesting page 18, elapsed time:66.80338144302368\n",
      "Requesting page 19, elapsed time:70.54467010498047\n",
      "Requesting page 20, elapsed time:74.2103443145752\n",
      "Requesting page 21, elapsed time:78.26836228370667\n",
      "Requesting page 22, elapsed time:81.9349594116211\n",
      "Requesting page 23, elapsed time:85.56058168411255\n",
      "Requesting page 24, elapsed time:88.93476700782776\n"
     ]
    }
   ],
   "source": [
    "runners = []\n",
    "\n",
    "def parse_runner(runner):\n",
    "    runner_dict = {\n",
    "        'place_overall':runner[3],\n",
    "        'place_gender':runner[4],\n",
    "        'bib':runner[4],\n",
    "        'name':runner[5],\n",
    "        'division':runner[13][-5:],\n",
    "        'half':runner[18][5:],\n",
    "        'finish':runner[19][7:]\n",
    "    }\n",
    "    return runner_dict\n",
    "\n",
    "start_time = time()\n",
    "for p in range(1,25):\n",
    "    url = f'https://chicago-history.r.mikatiming.de/2018/?page={p}&event=MAR_999999107FA30900000000B5&lang=EN_CAP&num_results=1000&pid=list&search%5Bsex%5D=M&search%5Bage_class%5D=%25'\n",
    "    response = get(url)\n",
    "    html_soup = BeautifulSoup(response.text, 'html.parser')\n",
    "\n",
    "    elapsed_time = time() - start_time\n",
    "    \n",
    "    print(f'Requesting page {p}, elapsed time:{elapsed_time}')\n",
    "\n",
    "    if response.status_code != 200:\n",
    "        warn(f'Status code: {response.status_code}')\n",
    "    results = html_soup.find('ul', class_='list-group list-group-multicolumn').find_all('li')[1:]\n",
    "    runners += [parse_runner(runner.text.split('\\n')) for runner in results]"
   ]
  },
  {
   "cell_type": "code",
   "execution_count": 4,
   "metadata": {
    "collapsed": true
   },
   "outputs": [],
   "source": [
    "df = pd.DataFrame(runners)\n",
    "df.to_csv('chicago_marathon_2018.csv', index=False)"
   ]
  },
  {
   "cell_type": "code",
   "execution_count": null,
   "metadata": {
    "collapsed": true
   },
   "outputs": [],
   "source": []
  }
 ],
 "metadata": {
  "kernelspec": {
   "display_name": "Python 3",
   "language": "python",
   "name": "python3"
  },
  "language_info": {
   "codemirror_mode": {
    "name": "ipython",
    "version": 3
   },
   "file_extension": ".py",
   "mimetype": "text/x-python",
   "name": "python",
   "nbconvert_exporter": "python",
   "pygments_lexer": "ipython3",
   "version": "3.6.3"
  }
 },
 "nbformat": 4,
 "nbformat_minor": 2
}
