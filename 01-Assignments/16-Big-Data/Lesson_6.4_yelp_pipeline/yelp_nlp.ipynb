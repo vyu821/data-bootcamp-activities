{
 "cells": [
  {
   "cell_type": "code",
   "execution_count": 0,
   "metadata": {
    "colab": {},
    "colab_type": "code",
    "id": "xfpyKh8wJbyg"
   },
   "outputs": [],
   "source": [
    "import os\n",
    "# Find the latest version of spark 3.0  from http://www-us.apache.org/dist/spark/ and enter as the spark version\n",
    "# For example:\n",
    "# spark_version = 'spark-3.0.1'\n",
    "spark_version = 'spark-3.0.1'\n",
    "os.environ['SPARK_VERSION']=spark_version\n",
    "\n",
    "# Install Spark and Java\n",
    "!apt-get update\n",
    "!apt-get install openjdk-11-jdk-headless -qq > /dev/null\n",
    "!wget -q http://www-us.apache.org/dist/spark/$SPARK_VERSION/$SPARK_VERSION-bin-hadoop2.7.tgz\n",
    "!tar xf $SPARK_VERSION-bin-hadoop2.7.tgz\n",
    "!pip install -q findspark\n",
    "\n",
    "# Set Environment Variables\n",
    "os.environ[\"JAVA_HOME\"] = \"/usr/lib/jvm/java-11-openjdk-amd64\"\n",
    "os.environ[\"SPARK_HOME\"] = f\"/content/{spark_version}-bin-hadoop2.7\"\n",
    "\n",
    "# Start a SparkSession\n",
    "import findspark\n",
    "findspark.init()"
   ]
  },
  {
   "cell_type": "code",
   "execution_count": 0,
   "metadata": {
    "colab": {},
    "colab_type": "code",
    "id": "tltMBeDZ9h3w"
   },
   "outputs": [],
   "source": [
    "# Start Spark session\n",
    "from pyspark.sql import SparkSession\n",
    "spark = SparkSession.builder.appName(\"Yelp_NLP\").getOrCreate()"
   ]
  },
  {
   "cell_type": "code",
   "execution_count": 3,
   "metadata": {
    "colab": {
     "base_uri": "https://localhost:8080/",
     "height": 469
    },
    "colab_type": "code",
    "id": "aEjudeJJ9yBP",
    "outputId": "a7c35330-caf2-4528-ae95-0885b7d3f4ce"
   },
   "outputs": [
    {
     "name": "stdout",
     "output_type": "stream",
     "text": [
      "+--------+--------------------+\n",
      "|   class|                text|\n",
      "+--------+--------------------+\n",
      "|positive|Wow... Loved this...|\n",
      "|negative|  Crust is not good.|\n",
      "|negative|Not tasty and the...|\n",
      "|positive|Stopped by during...|\n",
      "|positive|The selection on ...|\n",
      "|negative|Now I am getting ...|\n",
      "|negative|Honeslty it didn'...|\n",
      "|negative|The potatoes were...|\n",
      "|positive|The fries were gr...|\n",
      "|positive|      A great touch.|\n",
      "|positive|Service was very ...|\n",
      "|negative|  Would not go back.|\n",
      "|negative|The cashier had n...|\n",
      "|positive|I tried the Cape ...|\n",
      "|negative|I was disgusted b...|\n",
      "|negative|I was shocked bec...|\n",
      "|positive| Highly recommended.|\n",
      "|negative|Waitress was a li...|\n",
      "|negative|This place is not...|\n",
      "|negative|did not like at all.|\n",
      "+--------+--------------------+\n",
      "only showing top 20 rows\n",
      "\n"
     ]
    }
   ],
   "source": [
    "# Read in data from S3 Buckets\n",
    "from pyspark import SparkFiles\n",
    "url =\"https://s3.amazonaws.com/dataviz-curriculum/day_2/yelp_reviews.csv\"\n",
    "spark.sparkContext.addFile(url)\n",
    "df = spark.read.csv(SparkFiles.get(\"yelp_reviews.csv\"), sep=\",\", header=True)\n",
    "\n",
    "# Show DataFrame\n",
    "df.show()"
   ]
  },
  {
   "cell_type": "code",
   "execution_count": 0,
   "metadata": {
    "colab": {},
    "colab_type": "code",
    "id": "LrvLdNef-PBL"
   },
   "outputs": [],
   "source": [
    "# Import functions\n",
    "from pyspark.ml.feature import Tokenizer, StopWordsRemover, HashingTF, IDF, StringIndexer"
   ]
  },
  {
   "cell_type": "code",
   "execution_count": 5,
   "metadata": {
    "colab": {
     "base_uri": "https://localhost:8080/",
     "height": 469
    },
    "colab_type": "code",
    "id": "X4EAYRSc94fR",
    "outputId": "b5abcb35-d195-4b34-df0b-8fa5c1307d70"
   },
   "outputs": [
    {
     "name": "stdout",
     "output_type": "stream",
     "text": [
      "+--------+--------------------+------+\n",
      "|   class|                text|length|\n",
      "+--------+--------------------+------+\n",
      "|positive|Wow... Loved this...|    24|\n",
      "|negative|  Crust is not good.|    18|\n",
      "|negative|Not tasty and the...|    41|\n",
      "|positive|Stopped by during...|    87|\n",
      "|positive|The selection on ...|    59|\n",
      "|negative|Now I am getting ...|    46|\n",
      "|negative|Honeslty it didn'...|    37|\n",
      "|negative|The potatoes were...|   111|\n",
      "|positive|The fries were gr...|    25|\n",
      "|positive|      A great touch.|    14|\n",
      "|positive|Service was very ...|    24|\n",
      "|negative|  Would not go back.|    18|\n",
      "|negative|The cashier had n...|    99|\n",
      "|positive|I tried the Cape ...|    59|\n",
      "|negative|I was disgusted b...|    62|\n",
      "|negative|I was shocked bec...|    50|\n",
      "|positive| Highly recommended.|    19|\n",
      "|negative|Waitress was a li...|    38|\n",
      "|negative|This place is not...|    51|\n",
      "|negative|did not like at all.|    20|\n",
      "+--------+--------------------+------+\n",
      "only showing top 20 rows\n",
      "\n"
     ]
    }
   ],
   "source": [
    "from pyspark.sql.functions import length\n",
    "# Create a length column to be used as a future feature \n",
    "data_df = df.withColumn('length', length(df['text']))\n",
    "data_df.show()"
   ]
  },
  {
   "cell_type": "code",
   "execution_count": 0,
   "metadata": {
    "colab": {},
    "colab_type": "code",
    "id": "LZbFWzJS98Xn"
   },
   "outputs": [],
   "source": [
    "# Create all the features to the data set\n",
    "pos_neg_to_num = StringIndexer(inputCol='class',outputCol='label')\n",
    "tokenizer = Tokenizer(inputCol=\"text\", outputCol=\"token_text\")\n",
    "stopremove = StopWordsRemover(inputCol='token_text',outputCol='stop_tokens')\n",
    "hashingTF = HashingTF(inputCol=\"token_text\", outputCol='hash_token')\n",
    "idf = IDF(inputCol='hash_token', outputCol='idf_token')"
   ]
  },
  {
   "cell_type": "code",
   "execution_count": 0,
   "metadata": {
    "colab": {},
    "colab_type": "code",
    "id": "6dku3sSLAz3W"
   },
   "outputs": [],
   "source": [
    "from pyspark.ml.feature import VectorAssembler\n",
    "from pyspark.ml.linalg import Vector\n",
    "\n",
    "# Create feature vectors\n",
    "clean_up = VectorAssembler(inputCols=['idf_token', 'length'], outputCol='features')"
   ]
  },
  {
   "cell_type": "code",
   "execution_count": 0,
   "metadata": {
    "colab": {},
    "colab_type": "code",
    "id": "4dgLzHKzBdFD"
   },
   "outputs": [],
   "source": [
    "# Create and run a data processing Pipeline\n",
    "from pyspark.ml import Pipeline\n",
    "data_prep_pipeline = Pipeline(stages=[pos_neg_to_num, tokenizer, stopremove, hashingTF, idf, clean_up])"
   ]
  },
  {
   "cell_type": "markdown",
   "metadata": {
    "colab_type": "text",
    "id": "FB1Hvfd2BiXf"
   },
   "source": [
    "## Machine Learning\n",
    "\n",
    "\n"
   ]
  },
  {
   "cell_type": "code",
   "execution_count": 0,
   "metadata": {
    "colab": {},
    "colab_type": "code",
    "id": "QVTENb2wBllH"
   },
   "outputs": [],
   "source": [
    "# Fit and transform the pipeline\n",
    "cleaner = data_prep_pipeline.fit(data_df)\n",
    "cleaned = cleaner.transform(data_df)"
   ]
  },
  {
   "cell_type": "code",
   "execution_count": 10,
   "metadata": {
    "colab": {
     "base_uri": "https://localhost:8080/",
     "height": 469
    },
    "colab_type": "code",
    "id": "U3uxeU8uBnvy",
    "outputId": "89c5dd25-ac71-4145-b941-75ad099c61ac"
   },
   "outputs": [
    {
     "name": "stdout",
     "output_type": "stream",
     "text": [
      "+-----+--------------------+\n",
      "|label|            features|\n",
      "+-----+--------------------+\n",
      "|  0.0|(262145,[33933,69...|\n",
      "|  1.0|(262145,[15889,13...|\n",
      "|  1.0|(262145,[25570,63...|\n",
      "|  0.0|(262145,[6286,272...|\n",
      "|  0.0|(262145,[6979,255...|\n",
      "|  1.0|(262145,[24417,24...|\n",
      "|  1.0|(262145,[12084,48...|\n",
      "|  1.0|(262145,[3645,963...|\n",
      "|  0.0|(262145,[53777,10...|\n",
      "|  0.0|(262145,[138356,2...|\n",
      "|  0.0|(262145,[24113,25...|\n",
      "|  1.0|(262145,[68867,13...|\n",
      "|  1.0|(262145,[24417,36...|\n",
      "|  0.0|(262145,[18098,24...|\n",
      "|  1.0|(262145,[24417,25...|\n",
      "|  1.0|(262145,[24417,25...|\n",
      "|  0.0|(262145,[31704,21...|\n",
      "|  1.0|(262145,[25570,27...|\n",
      "|  1.0|(262145,[12329,15...|\n",
      "|  1.0|(262145,[8287,139...|\n",
      "+-----+--------------------+\n",
      "only showing top 20 rows\n",
      "\n"
     ]
    }
   ],
   "source": [
    "# Show label and resulting features\n",
    "cleaned.select(['label', 'features']).show()"
   ]
  },
  {
   "cell_type": "code",
   "execution_count": 0,
   "metadata": {
    "colab": {},
    "colab_type": "code",
    "id": "S86aEIq9E7Dq"
   },
   "outputs": [],
   "source": [
    "# Break data down into a training set and a testing set\n",
    "training, testing = cleaned.randomSplit([0.7, 0.3])"
   ]
  },
  {
   "cell_type": "code",
   "execution_count": 0,
   "metadata": {
    "colab": {},
    "colab_type": "code",
    "id": "vuqQnc6fBol7"
   },
   "outputs": [],
   "source": [
    "from pyspark.ml.classification import NaiveBayes\n",
    "\n",
    "# Create a Naive Bayes model and fit training data\n",
    "nb = NaiveBayes()\n",
    "predictor = nb.fit(training)"
   ]
  },
  {
   "cell_type": "code",
   "execution_count": 13,
   "metadata": {
    "colab": {
     "base_uri": "https://localhost:8080/",
     "height": 228
    },
    "colab_type": "code",
    "id": "8-KQzuwOBqqK",
    "outputId": "2cf63f21-1624-4fae-fb89-99f4e30cb85d"
   },
   "outputs": [
    {
     "name": "stdout",
     "output_type": "stream",
     "text": [
      "+--------+--------------------+------+-----+--------------------+--------------------+--------------------+--------------------+--------------------+--------------------+--------------------+----------+\n",
      "|   class|                text|length|label|          token_text|         stop_tokens|          hash_token|           idf_token|            features|       rawPrediction|         probability|prediction|\n",
      "+--------+--------------------+------+-----+--------------------+--------------------+--------------------+--------------------+--------------------+--------------------+--------------------+----------+\n",
      "|negative|\"I don't know wha...|    85|  1.0|[\"i, don't, know,...|[\"i, know, big, d...|(262144,[8478,158...|(262144,[8478,158...|(262145,[8478,158...|[-871.33366271374...|[2.53127955970474...|       1.0|\n",
      "|negative|\"It was extremely...|    51|  1.0|[\"it, was, extrem...|[\"it, extremely, ...|(262144,[7388,255...|(262144,[7388,255...|(262145,[7388,255...|[-486.17081001607...|[0.00133309470181...|       1.0|\n",
      "|negative|\"The descriptions...|    71|  1.0|[\"the, descriptio...|[\"the, descriptio...|(262144,[50559,72...|(262144,[50559,72...|(262145,[50559,72...|[-926.54491166724...|[1.92714122031300...|       1.0|\n",
      "|negative|\"the food is not ...|    80|  1.0|[\"the, food, is, ...|[\"the, food, tast...|(262144,[15889,65...|(262144,[15889,65...|(262145,[15889,65...|[-941.68197706801...|[1.72544527758743...|       1.0|\n",
      "|negative|              #NAME?|     6|  1.0|            [#name?]|            [#name?]|(262144,[75443],[...|(262144,[75443],[...|(262145,[75443,26...|[-70.868493402862...|[0.94407769131070...|       0.0|\n",
      "+--------+--------------------+------+-----+--------------------+--------------------+--------------------+--------------------+--------------------+--------------------+--------------------+----------+\n",
      "only showing top 5 rows\n",
      "\n"
     ]
    }
   ],
   "source": [
    "# Tranform the model with the testing data\n",
    "test_results = predictor.transform(testing)\n",
    "test_results.show(5)"
   ]
  },
  {
   "cell_type": "code",
   "execution_count": 14,
   "metadata": {
    "colab": {
     "base_uri": "https://localhost:8080/",
     "height": 34
    },
    "colab_type": "code",
    "id": "60_HPAsxBtWK",
    "outputId": "ea58708d-3f8e-42b9-f9d7-a288de4f3586"
   },
   "outputs": [
    {
     "name": "stdout",
     "output_type": "stream",
     "text": [
      "Accuracy of model at predicting reviews was: 0.717288\n"
     ]
    }
   ],
   "source": [
    "# Use the Class Evaluator for a cleaner description\n",
    "from pyspark.ml.evaluation import MulticlassClassificationEvaluator\n",
    "\n",
    "acc_eval = MulticlassClassificationEvaluator()\n",
    "acc = acc_eval.evaluate(test_results)\n",
    "print(\"Accuracy of model at predicting reviews was: %f\" % acc)"
   ]
  }
 ],
 "metadata": {
  "colab": {
   "name": "yelp_nlp.ipynb",
   "provenance": []
  },
  "kernelspec": {
   "display_name": "Python 3",
   "language": "python",
   "name": "python3"
  },
  "language_info": {
   "codemirror_mode": {
    "name": "ipython",
    "version": 3
   },
   "file_extension": ".py",
   "mimetype": "text/x-python",
   "name": "python",
   "nbconvert_exporter": "python",
   "pygments_lexer": "ipython3",
   "version": "3.6.10"
  }
 },
 "nbformat": 4,
 "nbformat_minor": 1
}
